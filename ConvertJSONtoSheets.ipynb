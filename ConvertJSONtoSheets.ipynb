{
 "cells": [
  {
   "cell_type": "code",
   "execution_count": 7,
   "metadata": {},
   "outputs": [
    {
     "name": "stdout",
     "output_type": "stream",
     "text": [
      "0.5217785714285714\n"
     ]
    }
   ],
   "source": [
    "import pandas as pd\n",
    "import numpy as np\n",
    "\n",
    "# Read Music Metas\n",
    "meta = pd.read_json(\"music_metas.json\", precise_float = True)\n",
    "\n",
    "# Drop Columns\n",
    "meta.drop(columns = [\"music_time\", \"base_score_auto\", \"skill_score_solo\", \"skill_score_auto\", \"fever_end_time\", \"tap_count\"], inplace = True)\n",
    "# Rename Columns\n",
    "meta.rename(columns = {\"music_id\": \"ID\", \"difficulty\": \"Level\", \"event_rate\": \"Bonus\", \"base_score\": \"Base\", \"skill_score_multi\": \"Skill\", \"fever_score\":\"Fever\"}, inplace = True)\n",
    "# Replace Level Names\n",
    "meta[\"Level\"].replace({\"easy\": \"Easy\", \"normal\": \"Normal\", \"hard\":\"Hard\", \"expert\": \"Expert\", \"master\":\"Master\", \"append\":\"Append\"}, inplace = True)\n",
    "\n",
    "# Read Music Infos\n",
    "info = pd.read_json(\"music_infos.json\", precise_float = True)\n",
    "\n",
    "# Drop Columns\n",
    "info.drop(columns = [\"seq\", \"releaseConditionId\", \"categories\", \"pronunciation\", \"lyricist\", \"composer\", \"arranger\", \"dancerCount\", \"selfDancerPosition\", \"assetbundleName\", \"liveTalkBackgroundAssetbundleName\", \"publishedAt\", \"liveStageId\", \"fillerSec\", \"musicCollaborationId\"], inplace = True)\n",
    "# Rename Columns\n",
    "info.rename(columns = {\"id\":\"ID\", \"title\":\"Title\"}, inplace = True)\n",
    "\n",
    "# Join Info and Meta by ID\n",
    "data = meta.set_index(\"ID\").join(info.set_index(\"ID\"))\n",
    "\n",
    "# Rearrange Columns\n",
    "data = data[[\"Title\", \"Level\", \"Bonus\", \"Base\", \"Skill\", \"Fever\"]]\n",
    "# Set Song Bonus to %\n",
    "data[\"Bonus\"] = data[\"Bonus\"]/100\n",
    "# Sum Skill Scores\n",
    "data[\"Skill\"] = data[\"Skill\"].apply(np.sum)\n",
    "\n",
    "data.to_csv(\"Database.csv\")"
   ]
  }
 ],
 "metadata": {
  "kernelspec": {
   "display_name": ".venv",
   "language": "python",
   "name": "python3"
  },
  "language_info": {
   "codemirror_mode": {
    "name": "ipython",
    "version": 3
   },
   "file_extension": ".py",
   "mimetype": "text/x-python",
   "name": "python",
   "nbconvert_exporter": "python",
   "pygments_lexer": "ipython3",
   "version": "3.11.5"
  }
 },
 "nbformat": 4,
 "nbformat_minor": 2
}
